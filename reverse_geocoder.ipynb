{
 "cells": [
  {
   "cell_type": "code",
   "execution_count": 1,
   "metadata": {
    "ExecuteTime": {
     "end_time": "2017-09-05T20:15:22.176241Z",
     "start_time": "2017-09-05T20:15:21.896942Z"
    },
    "collapsed": true
   },
   "outputs": [],
   "source": [
    "import numpy as np\n",
    "\n",
    "omaha_point = np.array((-95.995102, 41.257160)) "
   ]
  },
  {
   "cell_type": "markdown",
   "metadata": {},
   "source": [
    "## Pandas and scikit-learn's KDTree"
   ]
  },
  {
   "cell_type": "code",
   "execution_count": 2,
   "metadata": {
    "ExecuteTime": {
     "end_time": "2017-09-05T20:15:23.438084Z",
     "start_time": "2017-09-05T20:15:22.495119Z"
    },
    "collapsed": true
   },
   "outputs": [],
   "source": [
    "import pandas as pd\n",
    "from sklearn.neighbors import KDTree"
   ]
  },
  {
   "cell_type": "code",
   "execution_count": 3,
   "metadata": {
    "ExecuteTime": {
     "end_time": "2017-09-05T20:15:24.476616Z",
     "start_time": "2017-09-05T20:15:23.440163Z"
    }
   },
   "outputs": [
    {
     "name": "stdout",
     "output_type": "stream",
     "text": [
      "33144\n",
      "   GEOID   INTPTLAT  INTPTLONG\n",
      "0  00601  18.180555 -66.749961\n",
      "1  00602  18.361945 -67.175597\n",
      "2  00603  18.455183 -67.119887\n",
      "3  00606  18.158345 -66.932911\n",
      "4  00610  18.295366 -67.125135\n"
     ]
    }
   ],
   "source": [
    "url = 'http://www2.census.gov/geo/docs/maps-data/data/gazetteer/2016_Gazetteer/2016_Gaz_zcta_national.zip'\n",
    "df_locations = pd.read_csv(url, dtype={'GEOID' : 'str'},sep='\\t', usecols=[0,5,6])\n",
    "df_locations.columns = df_locations.columns.str.strip()  #some column cleanup\n",
    "print (len(df_locations))\n",
    "print(df_locations.head())"
   ]
  },
  {
   "cell_type": "code",
   "execution_count": 6,
   "metadata": {
    "ExecuteTime": {
     "end_time": "2017-09-05T20:15:32.279466Z",
     "start_time": "2017-09-05T20:15:32.246328Z"
    },
    "collapsed": true
   },
   "outputs": [],
   "source": [
    "kdt = KDTree(df_locations[['INTPTLONG', 'INTPTLAT']])"
   ]
  },
  {
   "cell_type": "code",
   "execution_count": 7,
   "metadata": {
    "ExecuteTime": {
     "end_time": "2017-09-05T20:15:32.607543Z",
     "start_time": "2017-09-05T20:15:32.597985Z"
    }
   },
   "outputs": [
    {
     "name": "stdout",
     "output_type": "stream",
     "text": [
      "23609    68132\n",
      "Name: GEOID, dtype: object\n"
     ]
    }
   ],
   "source": [
    "omaha_point_kdt = np.expand_dims(omaha_point, axis=0)\n",
    "\n",
    "nearest_point_index = kdt.query(omaha_point_kdt, k=1, return_distance=False)\n",
    "print(df_locations.loc[nearest_point_index[0], 'GEOID'])"
   ]
  },
  {
   "cell_type": "markdown",
   "metadata": {},
   "source": [
    "## GeoPandas and Shapely"
   ]
  },
  {
   "cell_type": "code",
   "execution_count": 8,
   "metadata": {
    "ExecuteTime": {
     "end_time": "2017-09-05T20:15:34.423413Z",
     "start_time": "2017-09-05T20:15:34.278182Z"
    },
    "collapsed": true
   },
   "outputs": [],
   "source": [
    "import geopandas as gpd\n",
    "from shapely.geometry import Point"
   ]
  },
  {
   "cell_type": "code",
   "execution_count": 9,
   "metadata": {
    "ExecuteTime": {
     "end_time": "2017-09-05T20:18:05.086452Z",
     "start_time": "2017-09-05T20:15:34.639353Z"
    }
   },
   "outputs": [
    {
     "name": "stdout",
     "output_type": "stream",
     "text": [
      "33144\n",
      "  GEOID10                                           geometry\n",
      "0   43451  POLYGON ((-83.674464 41.331119, -83.6744449999...\n",
      "1   43452  POLYGON ((-83.067745 41.537718, -83.067729 41....\n",
      "2   43456  (POLYGON ((-82.8566 41.681222, -82.856831 41.6...\n",
      "3   43457  POLYGON ((-83.467474 41.268186, -83.4676039999...\n",
      "4   43458  POLYGON ((-83.222292 41.531025, -83.2222819999...\n"
     ]
    }
   ],
   "source": [
    "#ftp://ftp2.census.gov/geo/tiger/TIGER2016/ZCTA5/tl_2016_us_zcta510.zip\n",
    "gdf_locations = gpd.read_file('data/tl_2016_us_zcta510/tl_2016_us_zcta510.shp')\n",
    "print(len(gdf_locations))\n",
    "print(gdf_locations[['GEOID10', 'geometry']].head())"
   ]
  },
  {
   "cell_type": "code",
   "execution_count": 10,
   "metadata": {
    "ExecuteTime": {
     "end_time": "2017-09-05T20:18:08.940099Z",
     "start_time": "2017-09-05T20:18:07.998372Z"
    }
   },
   "outputs": [
    {
     "name": "stdout",
     "output_type": "stream",
     "text": [
      "24842    68132\n",
      "Name: GEOID10, dtype: object\n"
     ]
    }
   ],
   "source": [
    "omaha_point_shp = Point(omaha_point)\n",
    "\n",
    "filter = gdf_locations['geometry'].contains(omaha_point_shp)\n",
    "print(gdf_locations.loc[filter, 'GEOID10'])"
   ]
  },
  {
   "cell_type": "markdown",
   "metadata": {},
   "source": [
    "## Timing"
   ]
  },
  {
   "cell_type": "code",
   "execution_count": 11,
   "metadata": {
    "ExecuteTime": {
     "end_time": "2017-09-05T20:18:14.620492Z",
     "start_time": "2017-09-05T20:18:10.951089Z"
    }
   },
   "outputs": [
    {
     "name": "stdout",
     "output_type": "stream",
     "text": [
      "447 µs ± 21.1 µs per loop (mean ± std. dev. of 7 runs, 1000 loops each)\n"
     ]
    }
   ],
   "source": [
    "%%timeit\n",
    "nearest_point_index = kdt.query(omaha_point_kdt, k=1, return_distance=False)\n",
    "df_locations.loc[nearest_point_index[0], 'GEOID']"
   ]
  },
  {
   "cell_type": "code",
   "execution_count": 12,
   "metadata": {
    "ExecuteTime": {
     "end_time": "2017-09-05T20:18:16.334083Z",
     "start_time": "2017-09-05T20:18:14.622055Z"
    }
   },
   "outputs": [
    {
     "name": "stdout",
     "output_type": "stream",
     "text": [
      "213 ms ± 3.59 ms per loop (mean ± std. dev. of 7 runs, 1 loop each)\n"
     ]
    }
   ],
   "source": [
    "%%timeit\n",
    "filter = gdf_locations['geometry'].contains(omaha_point_shp)\n",
    "gdf_locations.loc[filter, 'GEOID10']"
   ]
  },
  {
   "cell_type": "code",
   "execution_count": null,
   "metadata": {
    "collapsed": true
   },
   "outputs": [],
   "source": []
  }
 ],
 "metadata": {
  "kernelspec": {
   "display_name": "Python 3",
   "language": "python",
   "name": "python3"
  },
  "language_info": {
   "codemirror_mode": {
    "name": "ipython",
    "version": 3
   },
   "file_extension": ".py",
   "mimetype": "text/x-python",
   "name": "python",
   "nbconvert_exporter": "python",
   "pygments_lexer": "ipython3",
   "version": "3.5.3"
  }
 },
 "nbformat": 4,
 "nbformat_minor": 2
}
